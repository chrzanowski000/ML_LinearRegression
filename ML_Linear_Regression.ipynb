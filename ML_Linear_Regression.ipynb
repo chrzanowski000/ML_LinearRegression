{
 "cells": [
  {
   "cell_type": "code",
   "execution_count": 201,
   "metadata": {
    "collapsed": true
   },
   "outputs": [],
   "source": [
    "import numpy as np\n",
    "import pandas as pd\n",
    "import matplotlib.pyplot as plt\n",
    "import torch\n",
    "from torch.autograd import Variable\n",
    "import torch.nn as nn\n",
    "import seaborn as sns\n",
    "from tqdm.notebook import tqdm"
   ]
  },
  {
   "cell_type": "code",
   "execution_count": 202,
   "outputs": [
    {
     "name": "stdout",
     "output_type": "stream",
     "text": [
      "cpu\n"
     ]
    }
   ],
   "source": [
    "#In this case CPU will be used because linear non parallel computations are faster on CPU than GPU\n",
    "#device = torch.device(\"cuda\" if torch.cuda.is_available() else \"cpu\")\n",
    "device = torch.device(\"cpu\")\n",
    "print(device)"
   ],
   "metadata": {
    "collapsed": false,
    "pycharm": {
     "name": "#%%\n"
    }
   }
  },
  {
   "cell_type": "code",
   "execution_count": 203,
   "outputs": [
    {
     "name": "stdout",
     "output_type": "stream",
     "text": [
      "   X         Y\n",
      "0  1  3.888889\n",
      "1  2  4.555556\n",
      "2  3  5.222222\n",
      "3  4  5.888889\n",
      "4  5  6.555556\n",
      "found 0 missing values, missing value will be dropped\n"
     ]
    }
   ],
   "source": [
    "df=pd.read_csv(filepath_or_buffer='Data\\\\Linear Regression.csv', )\n",
    "print(df.head())\n",
    "df.drop(df.index[260:300], inplace=True)\n",
    "num_missing_values=df.isnull().values.sum()\n",
    "print(f'found {num_missing_values} missing values, missing value will be dropped')"
   ],
   "metadata": {
    "collapsed": false,
    "pycharm": {
     "name": "#%%\n"
    }
   }
  },
  {
   "cell_type": "code",
   "execution_count": 204,
   "outputs": [
    {
     "data": {
      "text/plain": "                X           Y\ncount  260.000000  260.000000\nmean   130.500000   90.222222\nstd     75.199734   50.133156\nmin      1.000000    3.888889\n25%     65.750000   47.055556\n50%    130.500000   90.222222\n75%    195.250000  133.388889\nmax    260.000000  176.555556",
      "text/html": "<div>\n<style scoped>\n    .dataframe tbody tr th:only-of-type {\n        vertical-align: middle;\n    }\n\n    .dataframe tbody tr th {\n        vertical-align: top;\n    }\n\n    .dataframe thead th {\n        text-align: right;\n    }\n</style>\n<table border=\"1\" class=\"dataframe\">\n  <thead>\n    <tr style=\"text-align: right;\">\n      <th></th>\n      <th>X</th>\n      <th>Y</th>\n    </tr>\n  </thead>\n  <tbody>\n    <tr>\n      <th>count</th>\n      <td>260.000000</td>\n      <td>260.000000</td>\n    </tr>\n    <tr>\n      <th>mean</th>\n      <td>130.500000</td>\n      <td>90.222222</td>\n    </tr>\n    <tr>\n      <th>std</th>\n      <td>75.199734</td>\n      <td>50.133156</td>\n    </tr>\n    <tr>\n      <th>min</th>\n      <td>1.000000</td>\n      <td>3.888889</td>\n    </tr>\n    <tr>\n      <th>25%</th>\n      <td>65.750000</td>\n      <td>47.055556</td>\n    </tr>\n    <tr>\n      <th>50%</th>\n      <td>130.500000</td>\n      <td>90.222222</td>\n    </tr>\n    <tr>\n      <th>75%</th>\n      <td>195.250000</td>\n      <td>133.388889</td>\n    </tr>\n    <tr>\n      <th>max</th>\n      <td>260.000000</td>\n      <td>176.555556</td>\n    </tr>\n  </tbody>\n</table>\n</div>"
     },
     "execution_count": 204,
     "metadata": {},
     "output_type": "execute_result"
    }
   ],
   "source": [
    "df.describe()"
   ],
   "metadata": {
    "collapsed": false,
    "pycharm": {
     "name": "#%%\n"
    }
   }
  },
  {
   "cell_type": "code",
   "execution_count": 205,
   "outputs": [
    {
     "name": "stdout",
     "output_type": "stream",
     "text": [
      "<class 'pandas.core.frame.DataFrame'>\n",
      "RangeIndex: 260 entries, 0 to 259\n",
      "Data columns (total 2 columns):\n",
      " #   Column  Non-Null Count  Dtype  \n",
      "---  ------  --------------  -----  \n",
      " 0   X       260 non-null    int64  \n",
      " 1   Y       260 non-null    float64\n",
      "dtypes: float64(1), int64(1)\n",
      "memory usage: 4.2 KB\n"
     ]
    }
   ],
   "source": [
    "df.info()"
   ],
   "metadata": {
    "collapsed": false,
    "pycharm": {
     "name": "#%%\n"
    }
   }
  },
  {
   "cell_type": "code",
   "execution_count": 206,
   "outputs": [],
   "source": [
    "X_np = np.array(df['X'], dtype=np.float32)\n",
    "Y_np = np.array(df['Y'], dtype=np.float32)\n",
    "noise_X = np.random.normal(0, 6, X_np.shape)\n",
    "noise_Y = np.random.normal(0, 5, Y_np.shape)\n",
    "X_np=X_np+noise_X\n",
    "Y_np=Y_np+noise_Y\n",
    "df_x_t = Variable(torch.from_numpy(X_np.astype(np.float32)).reshape(-1,1)).to(device)\n",
    "df_y_t = Variable(torch.from_numpy(Y_np.astype(np.float32)).reshape(-1,1)).to(device)\n",
    "#print(df_x_t)\n",
    "#print(df_y_t)"
   ],
   "metadata": {
    "collapsed": false,
    "pycharm": {
     "name": "#%%\n"
    }
   }
  },
  {
   "cell_type": "code",
   "execution_count": 207,
   "outputs": [
    {
     "data": {
      "text/plain": "<Figure size 360x360 with 1 Axes>",
      "image/png": "[encoded data removed]"
     },
     "metadata": {},
     "output_type": "display_data"
    }
   ],
   "source": [
    "sns.relplot(x=X_np, y=Y_np)\n",
    "plt.show()"
   ],
   "metadata": {
    "collapsed": false,
    "pycharm": {
     "name": "#%%\n"
    }
   }
  },
  {
   "cell_type": "code",
   "execution_count": 208,
   "outputs": [],
   "source": [
    "# create class\n",
    "class LinearRegression(nn.Module):\n",
    "    def __init__(self,input_size,output_size):\n",
    "        # super function. It inherits from nn.Module and we can access everything in nn.Module\n",
    "        super(LinearRegression,self).__init__()\n",
    "        # Linear function.\n",
    "        self.linear = nn.Linear(input_size,output_size)\n",
    "\n",
    "    def forward(self,x):\n",
    "        return self.linear(x)"
   ],
   "metadata": {
    "collapsed": false,
    "pycharm": {
     "name": "#%%\n"
    }
   }
  },
  {
   "cell_type": "markdown",
   "source": [
    "run two cells bellow together to do not accumulate training model"
   ],
   "metadata": {
    "collapsed": false
   }
  },
  {
   "cell_type": "code",
   "execution_count": 209,
   "outputs": [],
   "source": [
    "# define model\n",
    "input_dim = 1\n",
    "output_dim = 1\n",
    "model = LinearRegression(input_dim,output_dim) # input and output size are 1\n",
    "model.to(device)\n",
    "# MSE\n",
    "mse = nn.MSELoss()\n",
    "\n",
    "# Optimization (find parameters that minimize error)\n",
    "learning_rate = 0.00001   # how fast we reach best parameters\n",
    "optimizer = torch.optim.SGD(model.parameters(),lr = learning_rate)"
   ],
   "metadata": {
    "collapsed": false,
    "pycharm": {
     "name": "#%%\n"
    }
   }
  },
  {
   "cell_type": "code",
   "execution_count": 210,
   "outputs": [
    {
     "data": {
      "text/plain": "  0%|          | 0/100 [00:00<?, ?it/s]",
      "application/vnd.jupyter.widget-view+json": {
       "version_major": 2,
       "version_minor": 0,
       "model_id": "bb36fdd96c6a4adbafe82ee542b29a5c"
      }
     },
     "metadata": {},
     "output_type": "display_data"
    },
    {
     "name": "stdout",
     "output_type": "stream",
     "text": [
      "epoch 0, loss 286.5442810058594\n",
      "epoch 1, loss 116.32294464111328\n",
      "epoch 2, loss 65.40245056152344\n",
      "epoch 3, loss 50.169864654541016\n",
      "epoch 4, loss 45.613101959228516\n",
      "epoch 5, loss 44.249942779541016\n",
      "epoch 6, loss 43.8421516418457\n",
      "epoch 7, loss 43.72011184692383\n",
      "epoch 8, loss 43.6835823059082\n",
      "epoch 9, loss 43.6726188659668\n",
      "epoch 10, loss 43.669307708740234\n",
      "epoch 11, loss 43.66828536987305\n",
      "epoch 12, loss 43.66794967651367\n",
      "epoch 13, loss 43.66781234741211\n",
      "epoch 14, loss 43.66773986816406\n",
      "epoch 15, loss 43.66769027709961\n",
      "epoch 16, loss 43.667640686035156\n",
      "epoch 17, loss 43.667606353759766\n",
      "epoch 18, loss 43.66754913330078\n",
      "epoch 19, loss 43.66749572753906\n",
      "epoch 20, loss 43.66746139526367\n",
      "epoch 21, loss 43.66740798950195\n",
      "epoch 22, loss 43.66736602783203\n",
      "epoch 23, loss 43.667320251464844\n",
      "epoch 24, loss 43.667274475097656\n",
      "epoch 25, loss 43.66722869873047\n",
      "epoch 26, loss 43.667171478271484\n",
      "epoch 27, loss 43.66714096069336\n",
      "epoch 28, loss 43.667091369628906\n",
      "epoch 29, loss 43.66704177856445\n",
      "epoch 30, loss 43.6670036315918\n",
      "epoch 31, loss 43.666954040527344\n",
      "epoch 32, loss 43.66691207885742\n",
      "epoch 33, loss 43.666866302490234\n",
      "epoch 34, loss 43.666812896728516\n",
      "epoch 35, loss 43.666770935058594\n",
      "epoch 36, loss 43.666717529296875\n",
      "epoch 37, loss 43.66667938232422\n",
      "epoch 38, loss 43.6666259765625\n",
      "epoch 39, loss 43.66658401489258\n",
      "epoch 40, loss 43.666542053222656\n",
      "epoch 41, loss 43.6664924621582\n",
      "epoch 42, loss 43.666446685791016\n",
      "epoch 43, loss 43.66640090942383\n",
      "epoch 44, loss 43.666358947753906\n",
      "epoch 45, loss 43.66630935668945\n",
      "epoch 46, loss 43.666263580322266\n",
      "epoch 47, loss 43.666221618652344\n",
      "epoch 48, loss 43.66617202758789\n",
      "epoch 49, loss 43.66612243652344\n",
      "epoch 50, loss 43.666080474853516\n",
      "epoch 51, loss 43.666038513183594\n",
      "epoch 52, loss 43.66599655151367\n",
      "epoch 53, loss 43.66594696044922\n",
      "epoch 54, loss 43.6658935546875\n",
      "epoch 55, loss 43.66585159301758\n",
      "epoch 56, loss 43.66580581665039\n",
      "epoch 57, loss 43.6657600402832\n",
      "epoch 58, loss 43.665714263916016\n",
      "epoch 59, loss 43.66566467285156\n",
      "epoch 60, loss 43.665626525878906\n",
      "epoch 61, loss 43.66557312011719\n",
      "epoch 62, loss 43.66553497314453\n",
      "epoch 63, loss 43.66548538208008\n",
      "epoch 64, loss 43.66544723510742\n",
      "epoch 65, loss 43.6653938293457\n",
      "epoch 66, loss 43.665348052978516\n",
      "epoch 67, loss 43.665306091308594\n",
      "epoch 68, loss 43.66525650024414\n",
      "epoch 69, loss 43.66521072387695\n",
      "epoch 70, loss 43.665164947509766\n",
      "epoch 71, loss 43.66511917114258\n",
      "epoch 72, loss 43.66507339477539\n",
      "epoch 73, loss 43.6650276184082\n",
      "epoch 74, loss 43.66498565673828\n",
      "epoch 75, loss 43.664939880371094\n",
      "epoch 76, loss 43.66489028930664\n",
      "epoch 77, loss 43.664852142333984\n",
      "epoch 78, loss 43.664798736572266\n",
      "epoch 79, loss 43.66475296020508\n",
      "epoch 80, loss 43.66470718383789\n",
      "epoch 81, loss 43.66465377807617\n",
      "epoch 82, loss 43.66461181640625\n",
      "epoch 83, loss 43.66456604003906\n",
      "epoch 84, loss 43.66452407836914\n",
      "epoch 85, loss 43.66447830200195\n",
      "epoch 86, loss 43.6644287109375\n",
      "epoch 87, loss 43.664390563964844\n",
      "epoch 88, loss 43.664344787597656\n",
      "epoch 89, loss 43.66429901123047\n",
      "epoch 90, loss 43.664249420166016\n",
      "epoch 91, loss 43.6641960144043\n",
      "epoch 92, loss 43.664161682128906\n",
      "epoch 93, loss 43.66410827636719\n",
      "epoch 94, loss 43.664066314697266\n",
      "epoch 95, loss 43.66401672363281\n",
      "epoch 96, loss 43.66397476196289\n",
      "epoch 97, loss 43.663936614990234\n",
      "epoch 98, loss 43.66387939453125\n",
      "epoch 99, loss 43.66384506225586\n",
      "---Model calculated---\n",
      "loss: 43.66384506225586\n"
     ]
    }
   ],
   "source": [
    "# train model\n",
    "loss_list = []\n",
    "#loss=torch.tensor([])\n",
    "iteration_number = 100\n",
    "for iteration in tqdm(range(iteration_number)):\n",
    "    # Forward to get output\n",
    "    results = model(df_x_t)\n",
    "    # Calculate Loss\n",
    "    loss = mse(results, df_y_t)\n",
    "    # optimization\n",
    "    optimizer.zero_grad()\n",
    "    # backward propagation\n",
    "    loss.backward()\n",
    "    # Updating parameters\n",
    "    optimizer.step()\n",
    "    # store loss\n",
    "    loss_list.append(loss.data)\n",
    "    # print loss\n",
    "    if iteration % 1 == 0:\n",
    "       print('epoch {}, loss {}'.format(iteration, loss.data))\n",
    "print(f'---Model calculated---\\nloss: {loss_list[iteration_number-1]}')"
   ],
   "metadata": {
    "collapsed": false,
    "pycharm": {
     "name": "#%%\n"
    }
   }
  },
  {
   "cell_type": "code",
   "execution_count": 211,
   "outputs": [
    {
     "data": {
      "text/plain": "<Figure size 432x288 with 1 Axes>",
      "image/png": "[encoded data removed]"
     },
     "metadata": {},
     "output_type": "display_data"
    }
   ],
   "source": [
    "plt.plot(range(iteration_number),loss_list)\n",
    "plt.xlabel(\"Number of Iterations\")\n",
    "plt.ylabel(\"Loss\")\n",
    "plt.show()"
   ],
   "metadata": {
    "collapsed": false,
    "pycharm": {
     "name": "#%%\n"
    }
   }
  },
  {
   "cell_type": "code",
   "execution_count": 212,
   "outputs": [
    {
     "name": "stdout",
     "output_type": "stream",
     "text": [
      "None 0 0.6795834898948669\n",
      "None 1 0.736693799495697\n"
     ]
    }
   ],
   "source": [
    "#Printing model parameters\n",
    "parameters ={}\n",
    "for ite, parameter in enumerate(model.parameters()):\n",
    "    if parameter.requires_grad:\n",
    "        parameters[f\"{ite}\"] = parameter.data.item()\n",
    "        print(f'{parameter.name} {ite} {parameter.data.item()}')"
   ],
   "metadata": {
    "collapsed": false,
    "pycharm": {
     "name": "#%%\n"
    }
   }
  },
  {
   "cell_type": "code",
   "execution_count": 213,
   "outputs": [
    {
     "name": "stdout",
     "output_type": "stream",
     "text": [
      "{'0': 0.6795834898948669, '1': 0.736693799495697}\n"
     ]
    }
   ],
   "source": [
    "print(parameters)\n",
    "x =np.arange(0,260, 20)\n",
    "y = x * parameters['0'] + parameters['1']\n",
    "df1 = pd.DataFrame({'x':x,'y':y})\n"
   ],
   "metadata": {
    "collapsed": false,
    "pycharm": {
     "name": "#%%\n"
    }
   }
  },
  {
   "cell_type": "code",
   "execution_count": 214,
   "outputs": [
    {
     "data": {
      "text/plain": "<AxesSubplot:xlabel='x', ylabel='y'>"
     },
     "execution_count": 214,
     "metadata": {},
     "output_type": "execute_result"
    },
    {
     "data": {
      "text/plain": "<Figure size 432x288 with 1 Axes>",
      "image/png": "[encoded data removed]"
     },
     "metadata": {},
     "output_type": "display_data"
    }
   ],
   "source": [
    "fig, ax = plt.subplots()\n",
    "sns.set_style(\"dark\")\n",
    "sns.scatterplot(x=X_np, y=Y_np,ax=ax)\n",
    "sns.lineplot(x=\"x\", y=\"y\", data=df1, ax = ax, color='red')"
   ],
   "metadata": {
    "collapsed": false,
    "pycharm": {
     "name": "#%%\n"
    }
   }
  }
 ],
 "metadata": {
  "kernelspec": {
   "display_name": "Python 3",
   "language": "python",
   "name": "python3"
  },
  "language_info": {
   "codemirror_mode": {
    "name": "ipython",
    "version": 2
   },
   "file_extension": ".py",
   "mimetype": "text/x-python",
   "name": "python",
   "nbconvert_exporter": "python",
   "pygments_lexer": "ipython2",
   "version": "2.7.6"
  }
 },
 "nbformat": 4,
 "nbformat_minor": 0
}